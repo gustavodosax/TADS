{
 "cells": [
  {
   "cell_type": "markdown",
   "metadata": {},
   "source": [
    "# Implementação de Pilha\n",
    "\n",
    "Operações básicas da Pilha\n",
    "\n",
    "- push\n",
    "- pop\n",
    "- peek\n",
    "\n",
    "Operações complementares\n",
    "\n",
    "- is_empty"
   ]
  },
  {
   "cell_type": "code",
   "execution_count": 88,
   "metadata": {},
   "outputs": [],
   "source": [
    "# Classes No e Pilha\n",
    "\n",
    "class No:\n",
    "    def __init__(self, valor):\n",
    "        self.valor = valor\n",
    "        self.proximo = None\n",
    "\n",
    "class Pilha:\n",
    "    def __init__(self):\n",
    "        self.topo = None\n",
    "\n",
    "    # Adiciona um elemento no topo da pilha\n",
    "    def push(self, valor):\n",
    "        for caractere in valor:\n",
    "            novo_no = No(caractere)\n",
    "            novo_no.proximo = self.topo\n",
    "            self.topo = novo_no\n",
    "\n",
    "    # Remove um elemento do topo da pilha\n",
    "    def pop(self):\n",
    "        if self.topo is not None:\n",
    "            removido = self.topo\n",
    "            self.topo = self.topo.proximo\n",
    "            return removido.valor\n",
    "        raise Exception(\"Pilha vazia.\")\n",
    "\n",
    "    # Acessar o topo da pilha sem realizar a remoção\n",
    "    def peek(self):\n",
    "        if self.topo is not None:\n",
    "            return self.topo.valor\n",
    "        raise Exception(\"Pilha vazia.\")\n",
    "        \n",
    "    def is_empty(self):\n",
    "        return self.topo is None\n",
    "\n",
    "    \n",
    "    def inverter_string(self, string):\n",
    "        self.pilha = Pilha()\n",
    "        self.pilha.push(string)    \n",
    "        string_invertida = \"\"\n",
    "        while not self.pilha.is_empty():\n",
    "            string_invertida += self.pilha.pop()\n",
    "\n",
    "        return string_invertida\n",
    "\n",
    "\n"
   ]
  },
  {
   "cell_type": "code",
   "execution_count": 90,
   "metadata": {},
   "outputs": [
    {
     "name": "stdout",
     "output_type": "stream",
     "text": [
      "String original: gustavoo\n",
      "String invertida: oovatsug\n"
     ]
    }
   ],
   "source": [
    "\n",
    "# Criar uma instância de Pilha\n",
    "pilha = Pilha()\n",
    "# Entrada de string pelo usuário\n",
    "entrada = input(\"Digite uma string: \")\n",
    "# Inverter a string usando o método inverter_string\n",
    "string_invertida = pilha.inverter_string(entrada)\n",
    "\n",
    "print(\"String original:\", entrada)\n",
    "# Imprimir a string invertida\n",
    "print(\"String invertida:\", string_invertida)\n"
   ]
  }
 ],
 "metadata": {
  "kernelspec": {
   "display_name": "gpuTorch",
   "language": "python",
   "name": "python3"
  },
  "language_info": {
   "codemirror_mode": {
    "name": "ipython",
    "version": 3
   },
   "file_extension": ".py",
   "mimetype": "text/x-python",
   "name": "python",
   "nbconvert_exporter": "python",
   "pygments_lexer": "ipython3",
   "version": "3.11.5"
  }
 },
 "nbformat": 4,
 "nbformat_minor": 2
}
