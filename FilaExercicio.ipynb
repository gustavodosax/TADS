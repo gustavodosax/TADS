{
 "cells": [
  {
   "cell_type": "markdown",
   "metadata": {},
   "source": [
    "#\n",
    "Implementação de fila\n",
    "#"
   ]
  },
  {
   "cell_type": "code",
   "execution_count": 102,
   "metadata": {},
   "outputs": [],
   "source": [
    "#Nó de uma lista encadeada\n",
    "class Node:\n",
    "    def __init__(self, value):\n",
    "        self.value = value\n",
    "        self.next = None"
   ]
  },
  {
   "cell_type": "code",
   "execution_count": 181,
   "metadata": {},
   "outputs": [],
   "source": [
    "# Fila\n",
    "class Queue: # Classe fila\n",
    "    def __init__(self): # Construtor\n",
    "        self.front = None # Inicio da fila\n",
    "        self.rear = None # Fim da fila\n",
    "    \n",
    "    def enqueue(self, value): # Adiciona um elemento na fila\n",
    "        new_node = Node(value) # Cria um novo nó\n",
    "        \n",
    "        if self.front == None: # Se a fila estiver vazia\n",
    "            self.front = new_node # O inicio da fila é o novo nó\n",
    "            self.rear = new_node # O fim da fila é o novo nó\n",
    "            return \n",
    "        self.rear.next = new_node # O proximo do ultimo nó é o novo nó\n",
    "        self.rear = new_node # O novo nó é o ultimo nó\n",
    "        \n",
    "    def dequeue(self): # Remove um elemento da fila\n",
    "        if self.front == None:\n",
    "            return print(\"Fila vazia\")\n",
    "        temp = self.front\n",
    "        self.front = self.front.next\n",
    "        if self.front == None:\n",
    "            self.rear = None,\n",
    "        return temp.value\n",
    "    \n",
    "    # Acessa primeiro elemento da fila\n",
    "    def peek(self):\n",
    "        if self.front == None:\n",
    "            return print(\"Fila vazia\")\n",
    "        return self.front.value\n",
    "    \n",
    "    #Consultar se fila esta vazia\n",
    "    \n",
    "    def isEmpty(self):\n",
    "        if self.front == None:\n",
    "            return print(\"Fila vazia\")\n",
    "        else :\n",
    "            return print(\"Fila não vazia\")\n",
    "    \n",
    "    #Exibe a fila\n",
    "    def display(self):\n",
    "        current = self.front\n",
    "        while current != None:\n",
    "            print(current.value, end = \" \")\n",
    "            current = current.next\n",
    "    \n",
    "           \n",
    "        \n",
    "        "
   ]
  },
  {
   "cell_type": "code",
   "execution_count": 204,
   "metadata": {},
   "outputs": [
    {
     "name": "stdout",
     "output_type": "stream",
     "text": [
      "Elemento inserido na fila:  1\n",
      "Elemento inserido na fila:  2\n",
      "Elemento inserido na fila:  3\n",
      "Elemento inserido na fila:  4\n",
      "Elemento inserido na fila:  5\n",
      "Elemento inserido na fila:  6\n",
      "Elemento inserido na fila:  7\n",
      "Fila completa:\n",
      "1 2 3 4 5 6 7 "
     ]
    }
   ],
   "source": [
    "fila = Queue()\n",
    "\n",
    "elementos_fila = int(input(\"Quantos elementos deseja adicionar à fila?: \"))\n",
    "for _ in range(elementos_fila): \n",
    "    elemento = int(input(\"Digite o elemento a ser inserido na fila: \"))\n",
    "    fila.enqueue(elemento)\n",
    "    print(\"Elemento inserido na fila: \", elemento)\n",
    "\n",
    "print(\"Fila completa:\")\n",
    "fila.display()\n",
    "\n",
    "\n"
   ]
  },
  {
   "cell_type": "code",
   "execution_count": 201,
   "metadata": {},
   "outputs": [
    {
     "name": "stdout",
     "output_type": "stream",
     "text": [
      "1 2 3 4 5 6 7 "
     ]
    }
   ],
   "source": [
    "fila.display()"
   ]
  },
  {
   "cell_type": "code",
   "execution_count": 180,
   "metadata": {},
   "outputs": [
    {
     "data": {
      "text/plain": [
       "3"
      ]
     },
     "execution_count": 180,
     "metadata": {},
     "output_type": "execute_result"
    }
   ],
   "source": [
    "fila.peek()"
   ]
  },
  {
   "cell_type": "code",
   "execution_count": 198,
   "metadata": {},
   "outputs": [
    {
     "name": "stdout",
     "output_type": "stream",
     "text": [
      "Fila vazia\n"
     ]
    }
   ],
   "source": [
    "fila.dequeue()"
   ]
  },
  {
   "cell_type": "code",
   "execution_count": 199,
   "metadata": {},
   "outputs": [
    {
     "name": "stdout",
     "output_type": "stream",
     "text": [
      "Fila vazia\n"
     ]
    }
   ],
   "source": [
    "fila.isEmpty()"
   ]
  }
 ],
 "metadata": {
  "kernelspec": {
   "display_name": "Python 3",
   "language": "python",
   "name": "python3"
  },
  "language_info": {
   "codemirror_mode": {
    "name": "ipython",
    "version": 3
   },
   "file_extension": ".py",
   "mimetype": "text/x-python",
   "name": "python",
   "nbconvert_exporter": "python",
   "pygments_lexer": "ipython3",
   "version": "3.12.0"
  }
 },
 "nbformat": 4,
 "nbformat_minor": 2
}
